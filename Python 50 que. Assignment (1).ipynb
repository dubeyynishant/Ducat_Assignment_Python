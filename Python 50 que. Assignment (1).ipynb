{
 "cells": [
  {
   "cell_type": "markdown",
   "id": "309b43a4-e557-4159-8769-b6d05f8a04a8",
   "metadata": {},
   "source": [
    "### Python Imp. Quesions "
   ]
  },
  {
   "cell_type": "code",
   "execution_count": null,
   "id": "aeeb7a2d-e68c-4337-aca7-49c0d890d6b0",
   "metadata": {},
   "outputs": [],
   "source": [
    "#1. Take the input from user and find whether number is prime or not?\n",
    "#         Prime numbers are number which are divide by 1 or themselves only.\n",
    "#         Example: 13 is a prime number\n",
    "#         Example: 97 is a prime number "
   ]
  },
  {
   "cell_type": "code",
   "execution_count": 44,
   "id": "ef85ab89-219a-4760-a3cd-dace6c8e9613",
   "metadata": {},
   "outputs": [
    {
     "name": "stdin",
     "output_type": "stream",
     "text": [
      "Enter the number to be check :  5\n"
     ]
    },
    {
     "name": "stdout",
     "output_type": "stream",
     "text": [
      "5 is a prime number\n"
     ]
    }
   ],
   "source": [
    "#Using Normal Logic\n",
    "num = int(input(\"Enter the number to be check : \"))\n",
    "if num > 1 :\n",
    "    for i in range (2,int(num**0.5)+1):\n",
    "        if num%i == 0:\n",
    "            print(num , \"is not a prime number\")\n",
    "            break\n",
    "            \n",
    "    else :\n",
    "            print(num , \"is a prime number\")\n",
    "\n",
    "else :\n",
    "    print(num , \"is not a prime number\")"
   ]
  },
  {
   "cell_type": "code",
   "execution_count": 14,
   "id": "48935e41-80e9-4736-a5ca-e63a526bbeb8",
   "metadata": {},
   "outputs": [
    {
     "name": "stdin",
     "output_type": "stream",
     "text": [
      "Enter the number to be check :  0\n"
     ]
    },
    {
     "name": "stdout",
     "output_type": "stream",
     "text": [
      "0 is not a prime number.\n"
     ]
    }
   ],
   "source": [
    "#Using function\n",
    "def is_prime(n):\n",
    "    if n < 2:\n",
    "        return False\n",
    "    for i in range (2,int(num**0.5)+1):\n",
    "        if num%i == 0:\n",
    "            return False\n",
    "    return True\n",
    "\n",
    "\n",
    "num = int(input(\"Enter the number to be check : \"))\n",
    "\n",
    "if is_prime(num):\n",
    "    print(f\"{num} is a prime number.\")\n",
    "else:\n",
    "    print(f\"{num} is not a prime number.\")"
   ]
  },
  {
   "cell_type": "code",
   "execution_count": null,
   "id": "68b55e1d-9d71-4afb-b2f8-8c06a3b455d8",
   "metadata": {},
   "outputs": [],
   "source": []
  },
  {
   "cell_type": "code",
   "execution_count": null,
   "id": "ee5d18ea-75ca-4f11-ad1f-36f2642846b5",
   "metadata": {},
   "outputs": [],
   "source": [
    "# 2. Reverse the string using for loop.\n",
    "#          string = \"Python\"\n",
    "#         Expected output = \"nohtyP\"\n"
   ]
  },
  {
   "cell_type": "code",
   "execution_count": 17,
   "id": "da960e72-ddad-4b67-a09f-95be7dd02b9e",
   "metadata": {},
   "outputs": [
    {
     "name": "stdout",
     "output_type": "stream",
     "text": [
      "Reverses String : nohtyP\n"
     ]
    }
   ],
   "source": [
    "#Using Normal Logic\n",
    "string = \"Python\"\n",
    "reversed_str = \"\"\n",
    "\n",
    "for char in string :\n",
    "    reversed_str = char + reversed_str\n",
    "\n",
    "print(\"Reverses String :\",reversed_str)\n",
    "    "
   ]
  },
  {
   "cell_type": "code",
   "execution_count": 23,
   "id": "01db1337-d482-4d58-87ec-ee334054315d",
   "metadata": {},
   "outputs": [
    {
     "name": "stdout",
     "output_type": "stream",
     "text": [
      "Reversed String :nohtyp\n"
     ]
    }
   ],
   "source": [
    "#Using function\n",
    "def reverse_string(string):\n",
    "    reversed_str = \"\"\n",
    "    for char in string :\n",
    "        reversed_str = char + reversed_str\n",
    "    return reversed_str\n",
    "\n",
    "string = \"Python\"\n",
    "\n",
    "reversed_string = reverse_string(\"python\")\n",
    "print(f\"Reversed String :{reversed_string}\")\n",
    "    "
   ]
  },
  {
   "cell_type": "code",
   "execution_count": null,
   "id": "fcffaeb1-ef05-40eb-8a01-b69b95a9d787",
   "metadata": {},
   "outputs": [],
   "source": []
  },
  {
   "cell_type": "code",
   "execution_count": null,
   "id": "7b492321-ea8b-4b48-95c3-f9633a70b511",
   "metadata": {},
   "outputs": [],
   "source": [
    "# 3. Palindrome Check (String Problem)\n",
    "# Write a function to check whether a given string is a palindrome (a string that reads the same forward and backward is called palindrome).\n",
    "# String = “mom”  # if we reverse this string, we get the same Output “mom”\n",
    "# Expected output: string is a palindrome.\n"
   ]
  },
  {
   "cell_type": "code",
   "execution_count": 24,
   "id": "9c610e91-3c20-4d57-8437-0e6dcc8ec1b9",
   "metadata": {},
   "outputs": [
    {
     "name": "stdout",
     "output_type": "stream",
     "text": [
      "The string is a palindrome.\n"
     ]
    }
   ],
   "source": [
    "string = \"mom\"\n",
    "if string == string[::-1]:\n",
    "    print(\"The string is a palindrome.\")\n",
    "else:\n",
    "    print(\"The string is not a palindrome.\")"
   ]
  },
  {
   "cell_type": "code",
   "execution_count": 28,
   "id": "7e78508c-680f-4e84-b016-61015d22817e",
   "metadata": {},
   "outputs": [
    {
     "name": "stdout",
     "output_type": "stream",
     "text": [
      "The string is a palindrome.\n"
     ]
    }
   ],
   "source": [
    "#Using function\n",
    "def palindrome_check():\n",
    "    string = \"mom\"\n",
    "    if string == string[::-1]:\n",
    "        print(\"The string is a palindrome.\")\n",
    "    else:\n",
    "        print(\"The string is not a palindrome.\")\n",
    "palindrome_check()        "
   ]
  },
  {
   "cell_type": "code",
   "execution_count": null,
   "id": "0855785c-1582-4184-9330-fde2df3173e0",
   "metadata": {},
   "outputs": [],
   "source": []
  },
  {
   "cell_type": "code",
   "execution_count": null,
   "id": "129b0419-7bf8-474c-a0a7-97916e86dff0",
   "metadata": {},
   "outputs": [],
   "source": [
    "# 4. Calculate factorial of a number\n",
    "# Write a function calculate_factorial that takes a number as input and returns its factorial. Handle cases where the input is not a non-negative integer or zero.\n",
    "# Example: If number is 5 factorials will be (5x4x2x3x2x1=120)\n",
    "# Expected output: 120 if number is 5"
   ]
  },
  {
   "cell_type": "code",
   "execution_count": 38,
   "id": "14f48790-3113-4e4c-941d-09678d64e5e8",
   "metadata": {},
   "outputs": [
    {
     "name": "stdin",
     "output_type": "stream",
     "text": [
      "Enter the number:  6\n"
     ]
    },
    {
     "name": "stdout",
     "output_type": "stream",
     "text": [
      "Factorial of 6 is 720\n"
     ]
    }
   ],
   "source": [
    "#Using Normal Logic\n",
    "num = int(input(\"Enter the number: \"))\n",
    "\n",
    "if num < 0 :\n",
    "    print(\"Factorial is not defined for negative numbers\")\n",
    "elif num == 0 or num == 1 :\n",
    "    print(\"Factorial is 1\")\n",
    "else:\n",
    "    factorial = 1\n",
    "    for i in range(1 , num+1):\n",
    "        factorial *=i\n",
    "    print(\"Factorial of\",num,\"is\",factorial)    \n",
    "\n",
    "    \n",
    "        "
   ]
  },
  {
   "cell_type": "code",
   "execution_count": 43,
   "id": "11c4b360-483d-4820-84fe-c8494a008392",
   "metadata": {},
   "outputs": [
    {
     "name": "stdout",
     "output_type": "stream",
     "text": [
      "Factorial of 5 is : 120\n"
     ]
    }
   ],
   "source": [
    "#Using function\n",
    "def factorial_calculator(number):\n",
    "    if not isinstance(number , int) or number < 0:\n",
    "        return \"Invalid input! Please enter a non-negative integer\"\n",
    "\n",
    "    factorial = 1\n",
    "    for i in range(1 , number+1):\n",
    "        factorial *=i\n",
    "    return factorial\n",
    "\n",
    "num = 5\n",
    "print(f\"Factorial of {num} is : {factorial_calculator(num)}\")"
   ]
  },
  {
   "cell_type": "code",
   "execution_count": null,
   "id": "42b3d3e4-4443-4efa-9346-91ca14b3b5b9",
   "metadata": {},
   "outputs": [],
   "source": []
  }
 ],
 "metadata": {
  "kernelspec": {
   "display_name": "Python 3 (ipykernel)",
   "language": "python",
   "name": "python3"
  },
  "language_info": {
   "codemirror_mode": {
    "name": "ipython",
    "version": 3
   },
   "file_extension": ".py",
   "mimetype": "text/x-python",
   "name": "python",
   "nbconvert_exporter": "python",
   "pygments_lexer": "ipython3",
   "version": "3.12.0"
  }
 },
 "nbformat": 4,
 "nbformat_minor": 5
}
