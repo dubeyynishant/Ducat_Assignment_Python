{
 "cells": [
  {
   "cell_type": "markdown",
   "id": "309b43a4-e557-4159-8769-b6d05f8a04a8",
   "metadata": {},
   "source": [
    "### Python Imp. Quesions "
   ]
  },
  {
   "cell_type": "code",
   "execution_count": null,
   "id": "aeeb7a2d-e68c-4337-aca7-49c0d890d6b0",
   "metadata": {},
   "outputs": [],
   "source": [
    "#1. Take the input from user and find whether number is prime or not?\n",
    "#         Prime numbers are number which are divide by 1 or themselves only.\n",
    "#         Example: 13 is a prime number\n",
    "#         Example: 97 is a prime number "
   ]
  },
  {
   "cell_type": "code",
   "execution_count": 44,
   "id": "ef85ab89-219a-4760-a3cd-dace6c8e9613",
   "metadata": {},
   "outputs": [
    {
     "name": "stdin",
     "output_type": "stream",
     "text": [
      "Enter the number to be check :  5\n"
     ]
    },
    {
     "name": "stdout",
     "output_type": "stream",
     "text": [
      "5 is a prime number\n"
     ]
    }
   ],
   "source": [
    "#Using Normal Logic\n",
    "num = int(input(\"Enter the number to be check : \"))\n",
    "if num > 1 :\n",
    "    for i in range (2,int(num**0.5)+1):\n",
    "        if num%i == 0:\n",
    "            print(num , \"is not a prime number\")\n",
    "            break\n",
    "            \n",
    "    else :\n",
    "            print(num , \"is a prime number\")\n",
    "\n",
    "else :\n",
    "    print(num , \"is not a prime number\")"
   ]
  },
  {
   "cell_type": "code",
   "execution_count": 14,
   "id": "48935e41-80e9-4736-a5ca-e63a526bbeb8",
   "metadata": {},
   "outputs": [
    {
     "name": "stdin",
     "output_type": "stream",
     "text": [
      "Enter the number to be check :  0\n"
     ]
    },
    {
     "name": "stdout",
     "output_type": "stream",
     "text": [
      "0 is not a prime number.\n"
     ]
    }
   ],
   "source": [
    "#Using function\n",
    "def is_prime(n):\n",
    "    if n < 2:\n",
    "        return False\n",
    "    for i in range (2,int(num**0.5)+1):\n",
    "        if num%i == 0:\n",
    "            return False\n",
    "    return True\n",
    "\n",
    "\n",
    "num = int(input(\"Enter the number to be check : \"))\n",
    "\n",
    "if is_prime(num):\n",
    "    print(f\"{num} is a prime number.\")\n",
    "else:\n",
    "    print(f\"{num} is not a prime number.\")"
   ]
  },
  {
   "cell_type": "code",
   "execution_count": null,
   "id": "68b55e1d-9d71-4afb-b2f8-8c06a3b455d8",
   "metadata": {},
   "outputs": [],
   "source": [
    "#using oops\n",
    "import math\n",
    "class PRIME_CLASS:\n",
    "    def __init__(self,number):\n",
    "        self.number = number\n",
    "\n",
    "    def prime_checker(self):\n",
    "        for i in range(2,round(math.sqrt(self.number))+1):\n",
    "            if self.number % i==0:\n",
    "                return \"Not prime number\"\n",
    "        else:\n",
    "            return \"Prime Number\"\n",
    "if __name__ == \"__main__\":\n",
    "    user_number = int(input(\"Enter the number to check whether prime or not :\"))\n",
    "    object1= PRIME_CLASS(user_number)\n",
    "    print(object1.prime_checker())\n",
    "        "
   ]
  },
  {
   "cell_type": "code",
   "execution_count": null,
   "id": "fdd95555-c6f9-4e76-b0f9-b42e169a4403",
   "metadata": {},
   "outputs": [],
   "source": []
  },
  {
   "cell_type": "code",
   "execution_count": null,
   "id": "ee5d18ea-75ca-4f11-ad1f-36f2642846b5",
   "metadata": {},
   "outputs": [],
   "source": [
    "# 2. Reverse the string using for loop.\n",
    "#          string = \"Python\"\n",
    "#         Expected output = \"nohtyP\"\n"
   ]
  },
  {
   "cell_type": "code",
   "execution_count": 17,
   "id": "da960e72-ddad-4b67-a09f-95be7dd02b9e",
   "metadata": {},
   "outputs": [
    {
     "name": "stdout",
     "output_type": "stream",
     "text": [
      "Reverses String : nohtyP\n"
     ]
    }
   ],
   "source": [
    "#Using Normal Logic\n",
    "string = \"Python\"\n",
    "reversed_str = \"\"\n",
    "\n",
    "for char in string :\n",
    "    reversed_str = char + reversed_str\n",
    "\n",
    "print(\"Reverses String :\",reversed_str)\n",
    "    "
   ]
  },
  {
   "cell_type": "code",
   "execution_count": 23,
   "id": "01db1337-d482-4d58-87ec-ee334054315d",
   "metadata": {},
   "outputs": [
    {
     "name": "stdout",
     "output_type": "stream",
     "text": [
      "Reversed String :nohtyp\n"
     ]
    }
   ],
   "source": [
    "#Using function\n",
    "def reverse_string(string):\n",
    "    reversed_str = \"\"\n",
    "    for char in string :\n",
    "        reversed_str = char + reversed_str\n",
    "    return reversed_str\n",
    "\n",
    "string = \"Python\"\n",
    "\n",
    "reversed_string = reverse_string(\"python\")\n",
    "print(f\"Reversed String :{reversed_string}\")\n",
    "    "
   ]
  },
  {
   "cell_type": "code",
   "execution_count": 1,
   "id": "fcffaeb1-ef05-40eb-8a01-b69b95a9d787",
   "metadata": {},
   "outputs": [
    {
     "name": "stdin",
     "output_type": "stream",
     "text": [
      "Enter the string : python\n"
     ]
    },
    {
     "name": "stdout",
     "output_type": "stream",
     "text": [
      "nohtyp\n"
     ]
    }
   ],
   "source": [
    "#using oops\n",
    "class STRING_REVERSAL:\n",
    "    def __init__(self,string):\n",
    "        self.string = string\n",
    "\n",
    "\n",
    "\n",
    "    def reverse_string(self):\n",
    "        reversed_str = \"\"\n",
    "        for char in self.string :\n",
    "            reversed_str = char + reversed_str\n",
    "        return reversed_str\n",
    "\n",
    "if __name__ == \"__main__\":\n",
    "    user_string = input(\"Enter the string :\")\n",
    "    obj = STRING_REVERSAL(user_string)\n",
    "    \n",
    "    print(obj.reverse_string())\n"
   ]
  },
  {
   "cell_type": "code",
   "execution_count": null,
   "id": "ee55e6e5-a87a-4294-be96-7ecce7b0b910",
   "metadata": {},
   "outputs": [],
   "source": []
  },
  {
   "cell_type": "code",
   "execution_count": null,
   "id": "7b492321-ea8b-4b48-95c3-f9633a70b511",
   "metadata": {},
   "outputs": [],
   "source": [
    "# 3. Palindrome Check (String Problem)\n",
    "# Write a function to check whether a given string is a palindrome (a string that reads the same forward and backward is called palindrome).\n",
    "# String = “mom”  # if we reverse this string, we get the same Output “mom”\n",
    "# Expected output: string is a palindrome.\n"
   ]
  },
  {
   "cell_type": "code",
   "execution_count": 24,
   "id": "9c610e91-3c20-4d57-8437-0e6dcc8ec1b9",
   "metadata": {},
   "outputs": [
    {
     "name": "stdout",
     "output_type": "stream",
     "text": [
      "The string is a palindrome.\n"
     ]
    }
   ],
   "source": [
    "string = \"mom\"\n",
    "if string == string[::-1]:\n",
    "    print(\"The string is a palindrome.\")\n",
    "else:\n",
    "    print(\"The string is not a palindrome.\")"
   ]
  },
  {
   "cell_type": "code",
   "execution_count": 28,
   "id": "7e78508c-680f-4e84-b016-61015d22817e",
   "metadata": {},
   "outputs": [
    {
     "name": "stdout",
     "output_type": "stream",
     "text": [
      "The string is a palindrome.\n"
     ]
    }
   ],
   "source": [
    "#Using function\n",
    "def palindrome_check():\n",
    "    string = \"mom\"\n",
    "    if string == string[::-1]:\n",
    "        print(\"The string is a palindrome.\")\n",
    "    else:\n",
    "        print(\"The string is not a palindrome.\")\n",
    "palindrome_check()        "
   ]
  },
  {
   "cell_type": "code",
   "execution_count": 5,
   "id": "0855785c-1582-4184-9330-fde2df3173e0",
   "metadata": {},
   "outputs": [
    {
     "name": "stdin",
     "output_type": "stream",
     "text": [
      "enter the string:  mom\n"
     ]
    },
    {
     "name": "stdout",
     "output_type": "stream",
     "text": [
      "this string is palindrome\n"
     ]
    }
   ],
   "source": [
    "#using oops\n",
    "class palindrome:\n",
    "    def __init__(self, string):\n",
    "        self.string = string\n",
    "    def palindrome_string(self):\n",
    "        if self.string == self.string[::-1]:\n",
    "            print(\"this string is palindrome\")\n",
    "        else:\n",
    "            print(\"this string is not palindrome\") \n",
    "if __name__ == \"__main__\":\n",
    "    user = input(\"enter the string: \")\n",
    "    object2 = palindrome(user)\n",
    "    object2.palindrome_string()"
   ]
  },
  {
   "cell_type": "code",
   "execution_count": null,
   "id": "dccb02ff-b3cc-4240-a269-66f22f2de75d",
   "metadata": {},
   "outputs": [],
   "source": []
  },
  {
   "cell_type": "code",
   "execution_count": null,
   "id": "129b0419-7bf8-474c-a0a7-97916e86dff0",
   "metadata": {},
   "outputs": [],
   "source": [
    "# 4. Calculate factorial of a number\n",
    "# Write a function calculate_factorial that takes a number as input and returns its factorial. Handle cases where the input is not a non-negative integer or zero.\n",
    "# Example: If number is 5 factorials will be (5x4x2x3x2x1=120)\n",
    "# Expected output: 120 if number is 5"
   ]
  },
  {
   "cell_type": "code",
   "execution_count": 38,
   "id": "14f48790-3113-4e4c-941d-09678d64e5e8",
   "metadata": {},
   "outputs": [
    {
     "name": "stdin",
     "output_type": "stream",
     "text": [
      "Enter the number:  6\n"
     ]
    },
    {
     "name": "stdout",
     "output_type": "stream",
     "text": [
      "Factorial of 6 is 720\n"
     ]
    }
   ],
   "source": [
    "#Using Normal Logic\n",
    "num = int(input(\"Enter the number: \"))\n",
    "\n",
    "if num < 0 :\n",
    "    print(\"Factorial is not defined for negative numbers\")\n",
    "elif num == 0 or num == 1 :\n",
    "    print(\"Factorial is 1\")\n",
    "else:\n",
    "    factorial = 1\n",
    "    for i in range(1 , num+1):\n",
    "        factorial *=i\n",
    "    print(\"Factorial of\",num,\"is\",factorial)    \n",
    "\n",
    "    \n",
    "        "
   ]
  },
  {
   "cell_type": "code",
   "execution_count": 43,
   "id": "11c4b360-483d-4820-84fe-c8494a008392",
   "metadata": {},
   "outputs": [
    {
     "name": "stdout",
     "output_type": "stream",
     "text": [
      "Factorial of 5 is : 120\n"
     ]
    }
   ],
   "source": [
    "#Using function\n",
    "def factorial_calculator(number):\n",
    "    if not isinstance(number , int) or number < 0:\n",
    "        return \"Invalid input! Please enter a non-negative integer\"\n",
    "\n",
    "    factorial = 1\n",
    "    for i in range(1 , number+1):\n",
    "        factorial *=i\n",
    "    return factorial\n",
    "\n",
    "num = 5\n",
    "print(f\"Factorial of {num} is : {factorial_calculator(num)}\")"
   ]
  },
  {
   "cell_type": "code",
   "execution_count": 6,
   "id": "42b3d3e4-4443-4efa-9346-91ca14b3b5b9",
   "metadata": {},
   "outputs": [
    {
     "name": "stdout",
     "output_type": "stream",
     "text": [
      "Factorial of 5 is: 120\n"
     ]
    }
   ],
   "source": [
    "#using oops\n",
    "class Factorial:\n",
    "    def __init__(self, number):\n",
    "        if not isinstance(number, int) or number < 0:\n",
    "            raise ValueError(\"Input must be a non-negative integer.\")\n",
    "        self.number = number\n",
    "\n",
    "    def calculate_factorial(self):\n",
    "        if self.number == 0 or self.number == 1:\n",
    "            return 1\n",
    "        fact = 1\n",
    "        for i in range(2, self.number + 1):\n",
    "            fact *= i\n",
    "        return fact\n",
    "\n",
    "try:\n",
    "    num = 5\n",
    "    factorial_obj = Factorial(num)\n",
    "    print(f\"Factorial of {num} is: {factorial_obj.calculate_factorial()}\")\n",
    "except ValueError as e:\n",
    "    print(e)\n"
   ]
  },
  {
   "cell_type": "code",
   "execution_count": null,
   "id": "a7b19198-2a4f-4b76-9ac6-4a5333e46a6f",
   "metadata": {},
   "outputs": [],
   "source": []
  },
  {
   "cell_type": "code",
   "execution_count": null,
   "id": "220bc843-c0ee-4a68-bee6-0193f732d953",
   "metadata": {},
   "outputs": [],
   "source": [
    "# 5. Find the Second Largest Element in a List using for loop.\n",
    "# Write a function to find the second largest element in a list without using built-in sorting.\n",
    "\n",
    "# Example\n",
    "# Input: [7, 5, 8, 2, 10, 9]\n",
    "# Expected Output: 9\n",
    "\n",
    "# Example\n",
    "# Input: [4, 4, 4, 4]\n",
    "# Expected Output: None\n"
   ]
  },
  {
   "cell_type": "code",
   "execution_count": 1,
   "id": "130ea342-bb53-4cbf-aeba-8ad20473bb1e",
   "metadata": {},
   "outputs": [
    {
     "name": "stdout",
     "output_type": "stream",
     "text": [
      "9\n"
     ]
    }
   ],
   "source": [
    "#Using Normal Logic\n",
    "numbers = [7, 5, 8, 2, 10, 9]\n",
    "\n",
    "largest = second_largest = float('-inf') \n",
    "\n",
    "for num in numbers:\n",
    "    if num > largest:\n",
    "        second_largest = largest\n",
    "        largest = num\n",
    "    elif num > second_largest and num != largest:\n",
    "        second_largest = num\n",
    "\n",
    "if second_largest == float('-inf'):\n",
    "    print(None)\n",
    "else:\n",
    "    print(second_largest)\n"
   ]
  },
  {
   "cell_type": "code",
   "execution_count": 3,
   "id": "2c5e1686-ee01-4831-88e9-c2d438ccd39b",
   "metadata": {},
   "outputs": [
    {
     "name": "stdout",
     "output_type": "stream",
     "text": [
      "9\n",
      "None\n",
      "10\n"
     ]
    }
   ],
   "source": [
    "#Using function\n",
    "def second_largest(lst):\n",
    "    if len(lst) < 2:\n",
    "        return None  \n",
    "    \n",
    "    largest = second = float('-inf')\n",
    "    \n",
    "    for num in lst:\n",
    "        if num > largest:\n",
    "            second, largest = largest, num \n",
    "        elif largest > num > second:\n",
    "            second = num \n",
    "    \n",
    "    return second if second != float('-inf') else None  \n",
    "\n",
    "\n",
    "print(second_largest([7, 5, 8, 2, 10, 9])) \n",
    "print(second_largest([4, 4, 4, 4]))        \n",
    "print(second_largest([10, 20, 20, 5]))     "
   ]
  },
  {
   "cell_type": "code",
   "execution_count": 7,
   "id": "1d9814fc-1cb8-46b6-98a7-0182fc738bf3",
   "metadata": {},
   "outputs": [
    {
     "name": "stdout",
     "output_type": "stream",
     "text": [
      "9\n",
      "None\n"
     ]
    }
   ],
   "source": [
    "#using oops\n",
    "class SecondLargest:\n",
    "    def __init__(self, lst):\n",
    "        self.lst = lst\n",
    "\n",
    "    def find_second_largest(self):\n",
    "        if len(self.lst) < 2:\n",
    "            return None\n",
    "        first, second = float('-inf'), float('-inf')\n",
    "        for num in self.lst:\n",
    "            if num > first:\n",
    "                second, first = first, num\n",
    "            elif first > num > second:\n",
    "                second = num\n",
    "        return second if second != float('-inf') else None\n",
    "\n",
    "\n",
    "lst1 = [7, 5, 8, 2, 10, 9]\n",
    "second_largest_obj1 = SecondLargest(lst1)\n",
    "print(second_largest_obj1.find_second_largest())  \n",
    "\n",
    "lst2 = [4, 4, 4, 4]\n",
    "second_largest_obj2 = SecondLargest(lst2)\n",
    "print(second_largest_obj2.find_second_largest()) \n"
   ]
  },
  {
   "cell_type": "code",
   "execution_count": null,
   "id": "8b1a95df-74eb-463a-9f64-f2695472884f",
   "metadata": {},
   "outputs": [],
   "source": []
  },
  {
   "cell_type": "code",
   "execution_count": null,
   "id": "2c003756-bc8c-4596-99a1-e080d3a95ece",
   "metadata": {},
   "outputs": [],
   "source": [
    "# 6. Check for Anagram\n",
    "# •\tWrite a function to check if two input strings are anagrams of each other.\n",
    "# •\tAn anagram is a word or phrase that is formed by rearranging the letters of another word or phrase.\n",
    "#   To be anagrams, two strings must contain the exact same characters in the same quantities, but in any order.\n",
    "# •\tExample: \"listen\" and \"silent\" are anagrams.\n"
   ]
  },
  {
   "cell_type": "code",
   "execution_count": 8,
   "id": "f2964920-8ffb-42de-a59b-c2d9b2a5da3e",
   "metadata": {},
   "outputs": [
    {
     "name": "stdout",
     "output_type": "stream",
     "text": [
      "Anagram\n"
     ]
    }
   ],
   "source": [
    "#using normal logic\n",
    "str1 = \"listen\"\n",
    "str2 = \"silent\"\n",
    "\n",
    "if sorted(str1) == sorted(str2):\n",
    "    print(\"Anagram\")\n",
    "else:\n",
    "    print(\"Not an Anagram\")"
   ]
  },
  {
   "cell_type": "code",
   "execution_count": 13,
   "id": "0837cb70-0332-40a9-b1b0-a5f9695997fd",
   "metadata": {},
   "outputs": [
    {
     "name": "stdout",
     "output_type": "stream",
     "text": [
      "True\n",
      "False\n"
     ]
    }
   ],
   "source": [
    "#using function\n",
    "def is_anagram(str1, str2):\n",
    "    return sorted(str1) == sorted(str2)\n",
    "\n",
    "print(is_anagram(\"listen\", \"silent\"))\n",
    "print(is_anagram(\"hello\", \"world\"))  \n"
   ]
  },
  {
   "cell_type": "code",
   "execution_count": 15,
   "id": "82ee4186-dc4b-46a8-acec-6a81423b340d",
   "metadata": {},
   "outputs": [
    {
     "name": "stdout",
     "output_type": "stream",
     "text": [
      "True\n"
     ]
    }
   ],
   "source": [
    "#using oops\n",
    "class AnagramCheck:\n",
    "    def __init__(self, str1, str2):\n",
    "        self.str1 = str1\n",
    "        self.str2 = str2\n",
    "\n",
    "    def is_anagram(self):\n",
    "        return sorted(self.str1) == sorted(self.str2)\n",
    "\n",
    "str1, str2 = \"listen\", \"silent\"\n",
    "anagram_obj = AnagramCheck(str1, str2)\n",
    "print(anagram_obj.is_anagram())\n"
   ]
  },
  {
   "cell_type": "code",
   "execution_count": null,
   "id": "7e6c381a-a193-40a5-bcad-5619e6a66ccd",
   "metadata": {},
   "outputs": [],
   "source": []
  },
  {
   "cell_type": "code",
   "execution_count": null,
   "id": "5a2868fd-0cc4-4a66-9d3f-b2a0593a6806",
   "metadata": {},
   "outputs": [],
   "source": [
    "# 7. Count Vowels in a String\n",
    "# •\tTake a string as input and count the number of vowels (a, e, i, o, u) in it.\n",
    "# •\tIgnore case (i.e., count both uppercase and lowercase vowels).\n",
    "# •\tExample: “Python” word has 1 vowel sound(o)"
   ]
  },
  {
   "cell_type": "code",
   "execution_count": 19,
   "id": "30702b32-489a-49aa-86db-3ce51488c2a6",
   "metadata": {},
   "outputs": [
    {
     "name": "stdin",
     "output_type": "stream",
     "text": [
      "Enter a string:  Python\n"
     ]
    },
    {
     "name": "stdout",
     "output_type": "stream",
     "text": [
      "Number of vowels: 1\n"
     ]
    }
   ],
   "source": [
    "#using normal logic\n",
    "string = input(\"Enter a string: \")\n",
    "vowels = \"aeiouAEIOU\"\n",
    "count = 0\n",
    "\n",
    "for char in string:\n",
    "    if char in vowels:\n",
    "        count += 1\n",
    "\n",
    "print(\"Number of vowels:\", count)\n"
   ]
  },
  {
   "cell_type": "code",
   "execution_count": 20,
   "id": "3a732d65-5c2c-4c4f-9444-fd193e7f6623",
   "metadata": {},
   "outputs": [
    {
     "name": "stdin",
     "output_type": "stream",
     "text": [
      "Enter a string:  python\n"
     ]
    },
    {
     "name": "stdout",
     "output_type": "stream",
     "text": [
      "Number of vowels: 1\n"
     ]
    }
   ],
   "source": [
    "#using function\n",
    "def count_vowels(string):\n",
    "    vowels = \"aeiouAEIOU\"\n",
    "    return sum(1 for char in string if char in vowels)\n",
    "\n",
    "user_input = input(\"Enter a string: \")\n",
    "print(\"Number of vowels:\", count_vowels(user_input))\n"
   ]
  },
  {
   "cell_type": "code",
   "execution_count": 21,
   "id": "5a4fad67-dc66-4d6b-a262-41e2f8f5d742",
   "metadata": {},
   "outputs": [
    {
     "name": "stdin",
     "output_type": "stream",
     "text": [
      "Enter a string:  Python\n"
     ]
    },
    {
     "name": "stdout",
     "output_type": "stream",
     "text": [
      "Number of vowels: 1\n"
     ]
    }
   ],
   "source": [
    "#using oops\n",
    "class VowelCounter:\n",
    "    def __init__(self, string):\n",
    "        self.string = string\n",
    "        self.vowels = \"aeiouAEIOU\"\n",
    "    \n",
    "    def count_vowels(self):\n",
    "        return sum(1 for char in self.string if char in self.vowels)\n",
    "\n",
    "string = input(\"Enter a string: \")\n",
    "vowel_counter = VowelCounter(string)\n",
    "print(\"Number of vowels:\", vowel_counter.count_vowels())"
   ]
  },
  {
   "cell_type": "code",
   "execution_count": null,
   "id": "11e6bf5d-58c9-48d0-9e2b-2062a4264f7c",
   "metadata": {},
   "outputs": [],
   "source": []
  },
  {
   "cell_type": "code",
   "execution_count": null,
   "id": "e1ed3284-0d81-4fad-a6a3-701531f6c4fb",
   "metadata": {},
   "outputs": [],
   "source": [
    "# 8. Sum of Digits\n",
    "# •\tWrite a function that takes an integer as input and returns the sum of its digits.\n",
    "# •\tExample: sum_of_digits(123) -> 6"
   ]
  },
  {
   "cell_type": "code",
   "execution_count": 22,
   "id": "e6078e02-3fad-421b-bce0-fa6546f85db3",
   "metadata": {},
   "outputs": [
    {
     "name": "stdin",
     "output_type": "stream",
     "text": [
      "Enter a number:  256\n"
     ]
    },
    {
     "name": "stdout",
     "output_type": "stream",
     "text": [
      "Sum of digits: 13\n"
     ]
    }
   ],
   "source": [
    "#using normal logic\n",
    "num = int(input(\"Enter a number: \"))  \n",
    "sum_digits = 0  \n",
    "\n",
    "while num > 0:  \n",
    "    sum_digits += num % 10  \n",
    "    num //= 10  \n",
    "\n",
    "print(\"Sum of digits:\", sum_digits)\n"
   ]
  },
  {
   "cell_type": "code",
   "execution_count": 23,
   "id": "15ee18f3-fff1-4c40-a365-1e68c2b250b7",
   "metadata": {},
   "outputs": [
    {
     "name": "stdin",
     "output_type": "stream",
     "text": [
      "Enter a number:  456\n"
     ]
    },
    {
     "name": "stdout",
     "output_type": "stream",
     "text": [
      "Sum of digits: 15\n"
     ]
    }
   ],
   "source": [
    "#using function\n",
    "def sum_of_digits(num):\n",
    "    sum_digits = 0  \n",
    "    while num > 0:  \n",
    "        sum_digits += num % 10  \n",
    "        num //= 10  \n",
    "    return sum_digits  \n",
    "\n",
    "num = int(input(\"Enter a number: \"))  \n",
    "print(\"Sum of digits:\", sum_of_digits(num))"
   ]
  },
  {
   "cell_type": "code",
   "execution_count": 25,
   "id": "7e93cec4-059e-4270-9e10-dcf788f83deb",
   "metadata": {},
   "outputs": [
    {
     "name": "stdin",
     "output_type": "stream",
     "text": [
      "Enter a number:  5489\n"
     ]
    },
    {
     "data": {
      "text/plain": [
       "26"
      ]
     },
     "execution_count": 25,
     "metadata": {},
     "output_type": "execute_result"
    }
   ],
   "source": [
    "#using oops\n",
    "class Sum:\n",
    "    def __init__(self,num):\n",
    "        self.num = num\n",
    "\n",
    "    def sum_of_digits(self):\n",
    "        sum_digits = 0  \n",
    "        while self.num > 0:  \n",
    "            sum_digits += self.num % 10  \n",
    "            self.num //= 10  \n",
    "        return sum_digits  \n",
    "        \n",
    "num = int(input(\"Enter a number: \"))\n",
    "obj_sum = Sum(num)\n",
    "obj_sum.sum_of_digits()"
   ]
  },
  {
   "cell_type": "code",
   "execution_count": null,
   "id": "3e2cea6e-22d7-4f8e-965f-0e99bde33534",
   "metadata": {},
   "outputs": [],
   "source": []
  },
  {
   "cell_type": "code",
   "execution_count": null,
   "id": "9125ca6a-e938-4306-b503-2139a017df01",
   "metadata": {},
   "outputs": [],
   "source": [
    "#9. Fibonacci Sequence (Iterative)\n",
    "# •\tWrite a function that prints the first n numbers in the Fibonacci sequence.\n",
    "# •\tUse an iterative approach.\n",
    "# •\tExample\n",
    "# Input: n = 6\n",
    "# Expected Output: 0, 1, 1, 2, 3, 5\n",
    "# •\tExample\n",
    "# Input: n = 1\n",
    "# Expected Output: 0"
   ]
  },
  {
   "cell_type": "code",
   "execution_count": 29,
   "id": "b016776b-27f8-4f60-ad12-d5bd8db4110e",
   "metadata": {},
   "outputs": [
    {
     "name": "stdin",
     "output_type": "stream",
     "text": [
      "Enter the number of terms:  5\n"
     ]
    },
    {
     "name": "stdout",
     "output_type": "stream",
     "text": [
      "0,  1,  1,  2,  3"
     ]
    }
   ],
   "source": [
    "#using normal logic\n",
    "n = int(input(\"Enter the number of terms: \"))\n",
    "\n",
    "a, b = 0, 1\n",
    "if n > 0:\n",
    "    print(a, end=\"\")\n",
    "for i in range(1, n):\n",
    "    print(\", \", b, end=\"\")\n",
    "    a, b = b, a + b"
   ]
  },
  {
   "cell_type": "code",
   "execution_count": 30,
   "id": "13a0f45e-9302-487f-9cbe-fef2731d3513",
   "metadata": {},
   "outputs": [
    {
     "name": "stdin",
     "output_type": "stream",
     "text": [
      "Enter the number of terms:  5\n"
     ]
    },
    {
     "name": "stdout",
     "output_type": "stream",
     "text": [
      "0,  1,  1,  2,  3"
     ]
    }
   ],
   "source": [
    "#using function\n",
    "def fibonacci(n):\n",
    "    a, b = 0, 1\n",
    "    if n > 0:\n",
    "        print(a, end=\"\")\n",
    "    for i in range(1, n):\n",
    "        print(\", \", b, end=\"\")\n",
    "        a, b = b, a + b\n",
    "\n",
    "n = int(input(\"Enter the number of terms: \"))\n",
    "fibonacci(n)"
   ]
  },
  {
   "cell_type": "code",
   "execution_count": 32,
   "id": "a87531f4-92ae-4ee1-a0e7-b93b2e236f2d",
   "metadata": {},
   "outputs": [
    {
     "name": "stdin",
     "output_type": "stream",
     "text": [
      "Enter the number of terms:  5\n"
     ]
    },
    {
     "name": "stdout",
     "output_type": "stream",
     "text": [
      "0,  1,  1,  2,  3"
     ]
    }
   ],
   "source": [
    "#using oops\n",
    "class Fibonacci:\n",
    "    def __init__(self,n):\n",
    "        self.n = n\n",
    "\n",
    "    def fibonacci_sequence(self):\n",
    "        a, b = 0, 1\n",
    "        if self.n > 0:\n",
    "            print(a, end=\"\")\n",
    "        for i in range(1, self.n):\n",
    "            print(\", \", b, end=\"\")\n",
    "            a, b = b, a + b\n",
    "n = int(input(\"Enter the number of terms: \"))\n",
    "obj_fibonacci = Fibonacci(n)\n",
    "obj_fibonacci.fibonacci_sequence()"
   ]
  },
  {
   "cell_type": "code",
   "execution_count": null,
   "id": "9a3c4f5c-5758-425f-99ad-55fcdc46cba6",
   "metadata": {},
   "outputs": [],
   "source": []
  },
  {
   "cell_type": "code",
   "execution_count": null,
   "id": "970d4e61-2de2-480c-a647-bc77ea79b8e5",
   "metadata": {},
   "outputs": [],
   "source": [
    "# 10. Remove Duplicates from a List\n",
    "# •\tWrite a function that removes duplicates from a list while maintaining the original order.\n",
    "# •\tExample\n",
    "# Input: [1, 3, 2, 3, 4, 1, 5]\n",
    "# Expected Output: [1, 3, 2, 4, 5]\n",
    "# •\tExample\n",
    "# Input: [4, 4, 4, 4]\n",
    "# Expected Output: [4]"
   ]
  },
  {
   "cell_type": "code",
   "execution_count": 48,
   "id": "3c8537ff-5dad-4fdd-a0a4-6f4e96072aa8",
   "metadata": {},
   "outputs": [
    {
     "name": "stdout",
     "output_type": "stream",
     "text": [
      "List after removing duplicates: [1, 3, 2, 4, 5]\n"
     ]
    }
   ],
   "source": [
    "#using normal logic\n",
    "input_list = [1, 3, 2, 3, 4, 1, 5]\n",
    "unique_lst = []\n",
    "  \n",
    "for item in input_list:\n",
    "    if item not in unique_lst:\n",
    "        unique_lst.append(item)\n",
    "\n",
    "print(\"List after removing duplicates:\", unique_lst)\n"
   ]
  },
  {
   "cell_type": "code",
   "execution_count": 49,
   "id": "b35f5853-6b4f-42ec-b30f-5a10317cfd5a",
   "metadata": {},
   "outputs": [
    {
     "name": "stdout",
     "output_type": "stream",
     "text": [
      "List after removing duplicates: [1, 3, 2, 4, 5]\n"
     ]
    }
   ],
   "source": [
    "#using function \n",
    "def remove_duplicates(input_list):\n",
    "    unique_lst = []\n",
    "\n",
    "    for item in input_list:\n",
    "        if item not in unique_lst:\n",
    "            unique_lst.append(item)\n",
    "    return unique_lst\n",
    "\n",
    "input_list = [1, 3, 2, 3, 4, 1, 5]\n",
    "result = remove_duplicates(input_list)\n",
    "print(\"List after removing duplicates:\", result)"
   ]
  },
  {
   "cell_type": "code",
   "execution_count": 50,
   "id": "d4c05ebc-d990-4b2a-84a7-f92271b12112",
   "metadata": {},
   "outputs": [
    {
     "name": "stdout",
     "output_type": "stream",
     "text": [
      "List after removing duplicates: [1, 3, 2, 4, 5]\n"
     ]
    }
   ],
   "source": [
    "#using oops\n",
    "class DuplicateRemover:\n",
    "    def __init__(self, list1):\n",
    "        self.list1 = list1\n",
    "\n",
    "    def remove_duplicates(self):\n",
    "        unique_lst = []\n",
    "        for item in self.list1:\n",
    "            if item not in unique_lst:\n",
    "                unique_lst.append(item)\n",
    "        return unique_lst\n",
    "\n",
    "list1 = [1, 3, 2, 3, 4, 1, 5]\n",
    "remover = DuplicateRemover(input_list)\n",
    "unique_list = remover.remove_duplicates()\n",
    "\n",
    "print(\"List after removing duplicates:\", unique_list)"
   ]
  },
  {
   "cell_type": "code",
   "execution_count": null,
   "id": "2f122300-15d5-426d-9826-e0fcb3bc16ba",
   "metadata": {},
   "outputs": [],
   "source": []
  },
  {
   "cell_type": "code",
   "execution_count": null,
   "id": "9dfd3c84-c8bf-4922-8b03-2c8e957d8457",
   "metadata": {},
   "outputs": [],
   "source": [
    "# 11. Check for Leap Year\n",
    "# •\tWrite a function to check if a given year is a leap year.\n",
    "# •\tA leap year is divisible by 4, but not by 100, unless also divisible by 400.\n",
    "# •\tDivisible by 4: If a year can be evenly divided by 4 (like 2020), it might be a leap year.\n",
    "# •\tNot Divisible by 100: However, if that year can also be evenly divided by 100 (like 1900), then it's not a leap year.\n",
    "# •\tUnless Divisible by 400: If the year is divisible by 100, it could still be a leap year if it can also be evenly divided by 400 (like 2000).\n",
    "\n",
    "# •\tExample\n",
    "# Input: year = 2020\n",
    "# Expected Output: True (2020 is a leap year)\n",
    "# •\tExample\n",
    "# Input: year = 1900\n",
    "# Expected Output: False (1900 is not a leap year)\n",
    "# •\tExample\n",
    "# Input: year = 2000\n",
    "# Expected Output: True (2000 is a leap year)\n"
   ]
  },
  {
   "cell_type": "code",
   "execution_count": 6,
   "id": "8abf197a-6aa0-44f2-8e88-cb8f5255dabe",
   "metadata": {},
   "outputs": [
    {
     "name": "stdin",
     "output_type": "stream",
     "text": [
      "Enter the year:  2000\n"
     ]
    },
    {
     "name": "stdout",
     "output_type": "stream",
     "text": [
      "True\n"
     ]
    }
   ],
   "source": [
    "#using normal logic\n",
    "year = int(input(\"Enter the year: \"))\n",
    "\n",
    "if (year % 400 == 0) or (year % 100 != 0 and year % 4 == 0):\n",
    "    print(True)\n",
    "else:\n",
    "    print(False)"
   ]
  },
  {
   "cell_type": "code",
   "execution_count": 7,
   "id": "3ff5a398-466f-4d20-a2e5-d1842a8cc704",
   "metadata": {},
   "outputs": [
    {
     "name": "stdout",
     "output_type": "stream",
     "text": [
      "True\n",
      "False\n",
      "True\n"
     ]
    }
   ],
   "source": [
    "#using function\n",
    "def is_leap_year(year):\n",
    "    if (year % 400 == 0) or (year % 100 != 0 and year % 4 == 0):\n",
    "        return True\n",
    "    else:\n",
    "        return False\n",
    "\n",
    "\n",
    "year = 2020\n",
    "print(is_leap_year(year)) \n",
    "\n",
    "year = 1900\n",
    "print(is_leap_year(year))  \n",
    "year = 2000\n",
    "print(is_leap_year(year)) \n",
    "    "
   ]
  },
  {
   "cell_type": "code",
   "execution_count": 8,
   "id": "d8a36bd1-f59a-4b41-9958-2191ac11a851",
   "metadata": {},
   "outputs": [
    {
     "name": "stdout",
     "output_type": "stream",
     "text": [
      "True\n"
     ]
    }
   ],
   "source": [
    "#using oops\n",
    "class LeapYearChecker:\n",
    "    def is_leap_year(self, year):\n",
    "        if (year % 400 == 0) or (year % 100 != 0 and year % 4 == 0):\n",
    "            return True\n",
    "        else:\n",
    "            return False\n",
    "\n",
    "\n",
    "year = 2020 \n",
    "checker = LeapYearChecker()\n",
    "print(checker.is_leap_year(year)) "
   ]
  },
  {
   "cell_type": "code",
   "execution_count": null,
   "id": "091c90a8-2a0a-43d5-b25c-bc8f942ac297",
   "metadata": {},
   "outputs": [],
   "source": []
  },
  {
   "cell_type": "code",
   "execution_count": null,
   "id": "dfab6c8f-26cd-4106-8a8b-2f4b817c37d0",
   "metadata": {},
   "outputs": [],
   "source": [
    "# 12. Calculate Power without Using ** Operator\n",
    "# •\tWrite a function that calculates xy  (x raised to the power of y) without using Python’s power operator (**).\n",
    "# •\tExample\n",
    "# Input: x = 2, y = 3\n",
    "# Expected Output: 8 (since 23 =8)\n"
   ]
  },
  {
   "cell_type": "code",
   "execution_count": 9,
   "id": "8e32a70c-cdfd-4c3d-bd4a-d845f9e81eca",
   "metadata": {},
   "outputs": [
    {
     "name": "stdout",
     "output_type": "stream",
     "text": [
      "8\n"
     ]
    }
   ],
   "source": [
    "#using normal logic\n",
    "x = 2\n",
    "y = 3\n",
    "\n",
    "result = 1\n",
    "for _ in range(y):\n",
    "    result *= x\n",
    "\n",
    "print(result)    "
   ]
  },
  {
   "cell_type": "code",
   "execution_count": 10,
   "id": "1d638d4c-a21b-4e47-b5c5-f97bb279152f",
   "metadata": {},
   "outputs": [
    {
     "name": "stdout",
     "output_type": "stream",
     "text": [
      "8\n"
     ]
    }
   ],
   "source": [
    "#using function\n",
    "def power(x, y):\n",
    "    result = 1\n",
    "    for _ in range(y):\n",
    "        result *= x\n",
    "    return result\n",
    "\n",
    "\n",
    "x = 2\n",
    "y = 3\n",
    "print(power(x, y))  "
   ]
  },
  {
   "cell_type": "code",
   "execution_count": 11,
   "id": "0243054e-70ca-40a1-aecb-c856921ea1b2",
   "metadata": {},
   "outputs": [
    {
     "name": "stdout",
     "output_type": "stream",
     "text": [
      "8\n"
     ]
    }
   ],
   "source": [
    "#using oops\n",
    "class PowerCalculator:\n",
    "    def calculate(self, x, y):\n",
    "        result = 1\n",
    "        for _ in range(y):\n",
    "            result *= x\n",
    "        return result\n",
    "\n",
    "\n",
    "x = 2\n",
    "y = 3\n",
    "calculator = PowerCalculator()\n",
    "print(calculator.calculate(x, y))"
   ]
  },
  {
   "cell_type": "code",
   "execution_count": null,
   "id": "e5f48073-1e57-452c-aa04-4e5bc4285099",
   "metadata": {},
   "outputs": [],
   "source": []
  },
  {
   "cell_type": "code",
   "execution_count": null,
   "id": "52db71fa-9b53-4678-8691-c8d61ee93416",
   "metadata": {},
   "outputs": [],
   "source": [
    "# 13. Generate List of Even Numbers\n",
    "# •\tCreate a function that generates a list of even numbers up to a given number.\n",
    "# •\tExample\n",
    "# Input: n = 10\n",
    "# Expected Output: [2, 4, 6, 8, 10]\n",
    "# •\tExample\n",
    "# Input: n = 7\n",
    "# Expected Output: [2, 4, 6]"
   ]
  },
  {
   "cell_type": "code",
   "execution_count": 1,
   "id": "c4283d6b-adcc-4cef-8aff-68b7e41ccef6",
   "metadata": {},
   "outputs": [
    {
     "name": "stdout",
     "output_type": "stream",
     "text": [
      "[2, 4, 6, 8, 10]\n"
     ]
    }
   ],
   "source": [
    "#using normal logic\n",
    "n = 10\n",
    "even_numbers = []\n",
    "\n",
    "for num in range(2,n+2,2):\n",
    "    even_numbers.append(num)\n",
    "\n",
    "print(even_numbers)"
   ]
  },
  {
   "cell_type": "code",
   "execution_count": 2,
   "id": "62f05a86-4a18-4908-9598-774529563b52",
   "metadata": {},
   "outputs": [
    {
     "name": "stdout",
     "output_type": "stream",
     "text": [
      "[2, 4, 6, 8, 10]\n",
      "[2, 4, 6]\n"
     ]
    }
   ],
   "source": [
    "#using function\n",
    "def generate_evens(n):\n",
    "    even_numbers = []\n",
    "    for num in range(1, n + 1):\n",
    "        if num % 2 == 0:\n",
    "            even_numbers.append(num)\n",
    "    return even_numbers\n",
    "\n",
    "\n",
    "print(generate_evens(10))  \n",
    "print(generate_evens(7))  "
   ]
  },
  {
   "cell_type": "code",
   "execution_count": 19,
   "id": "5fef4550-ad94-4475-8f35-e98e6f06dd56",
   "metadata": {},
   "outputs": [
    {
     "data": {
      "text/plain": [
       "[2, 4, 6, 8, 10]"
      ]
     },
     "execution_count": 19,
     "metadata": {},
     "output_type": "execute_result"
    }
   ],
   "source": [
    "#using oops\n",
    "class EvenNumberGenerator:\n",
    "    def __init__(self,num):\n",
    "        self.num = num\n",
    "\n",
    "    def generate_evens(self):\n",
    "        even_numbers = []\n",
    "        for num in range(2,self.num+2,2):\n",
    "            even_numbers.append(num)\n",
    "        return even_numbers\n",
    "          \n",
    "obj = EvenNumberGenerator(10)\n",
    "obj.generate_evens()"
   ]
  },
  {
   "cell_type": "code",
   "execution_count": null,
   "id": "1bc065cd-d274-40c5-9775-eb6274f09cd2",
   "metadata": {},
   "outputs": [],
   "source": []
  },
  {
   "cell_type": "code",
   "execution_count": null,
   "id": "4e3737a0-213e-4e77-a797-e1affa0ee60b",
   "metadata": {},
   "outputs": [],
   "source": [
    "# 14. Binary Search Implementation\n",
    "# •\tWrite a function that performs binary search on a sorted list and returns the index of the target element or -1 if not found.\n",
    "# •\tExample\n",
    "# Input: sorted_list = [1, 2, 3, 4, 5, 6], target = 4\n",
    "# Expected Output: 3 (since 4 is at index 3)\n",
    "# •\tExample\n",
    "# Input: sorted_list = [10, 20, 30, 40, 50], target = 25\n",
    "# Expected Output: -1 (since 25 is not in the list)\n"
   ]
  },
  {
   "cell_type": "code",
   "execution_count": null,
   "id": "e2154f5e-a1c3-4c67-bd2f-68159a968561",
   "metadata": {},
   "outputs": [],
   "source": [
    "#using normal logic"
   ]
  },
  {
   "cell_type": "code",
   "execution_count": null,
   "id": "b90c6c45-876b-4518-8432-bd3f7444f67a",
   "metadata": {},
   "outputs": [],
   "source": [
    "#using function "
   ]
  },
  {
   "cell_type": "code",
   "execution_count": null,
   "id": "01373623-6e69-4340-bb1e-7946c64ba998",
   "metadata": {},
   "outputs": [],
   "source": [
    "#using oops\n"
   ]
  },
  {
   "cell_type": "code",
   "execution_count": null,
   "id": "8bd3038b-33e1-4ab4-b2c5-f1f2804bd4e3",
   "metadata": {},
   "outputs": [],
   "source": []
  },
  {
   "cell_type": "code",
   "execution_count": null,
   "id": "6d80ba72-6045-4ac8-ae70-08063b5264db",
   "metadata": {},
   "outputs": [],
   "source": [
    "# 15. Reverse Words in a Sentence\n",
    "# •\tWrite a function to reverse the order of words in a sentence, keeping the words themselves intact (sentence should not be changed or altered in any way; they should remain exactly as they are,).\n",
    "# Example\n",
    "# Input: \"Python is fun\"\n",
    "# Expected Output: \"fun is Python\"\n"
   ]
  },
  {
   "cell_type": "code",
   "execution_count": 21,
   "id": "1c0118de-4e6c-4d36-b216-f473e0a19b53",
   "metadata": {},
   "outputs": [
    {
     "name": "stdout",
     "output_type": "stream",
     "text": [
      "fun is Python\n"
     ]
    }
   ],
   "source": [
    "#using normal logic\n",
    "sentence = \"Python is fun\"\n",
    "\n",
    "words = sentence.split(' ')\n",
    "\n",
    "reversed_words = words[::-1]\n",
    "\n",
    "reversed_sentence = ' '.join(reversed_words)\n",
    "\n",
    "print(reversed_sentence)"
   ]
  },
  {
   "cell_type": "code",
   "execution_count": 22,
   "id": "8d326892-a222-4ad6-952e-f16fa46f886a",
   "metadata": {},
   "outputs": [
    {
     "name": "stdout",
     "output_type": "stream",
     "text": [
      "fun is Python\n"
     ]
    }
   ],
   "source": [
    "#using function \n",
    "def reverse_words(sentence):\n",
    "    words = sentence.split(' ')\n",
    "    reversed_sentence = ' '.join(words[::-1])\n",
    "    return reversed_sentence\n",
    "\n",
    "\n",
    "print(reverse_words(\"Python is fun\"))\n"
   ]
  },
  {
   "cell_type": "code",
   "execution_count": 24,
   "id": "a79e611f-b35a-4626-8da8-ba7e4c4d00bd",
   "metadata": {},
   "outputs": [
    {
     "name": "stdout",
     "output_type": "stream",
     "text": [
      "fun is Python\n"
     ]
    }
   ],
   "source": [
    "#using oops\n",
    "class SentenceReverser:\n",
    "    def __init__(self, sentence):\n",
    "        self.sentence = sentence\n",
    "    \n",
    "    def reverse_words(self):\n",
    "        \"\"\"Reverse the order of words in the sentence\"\"\"\n",
    "        words = self.sentence.split()\n",
    "        reversed_words = words[::-1]\n",
    "        return ' '.join(reversed_words)\n",
    "\n",
    "\n",
    "\n",
    "if __name__ == \"__main__\":\n",
    "\n",
    "    reverser1 = SentenceReverser(\"Python is fun\")\n",
    "    print(reverser1.reverse_words())"
   ]
  },
  {
   "cell_type": "code",
   "execution_count": null,
   "id": "35ab0d83-b296-4f6a-85c1-6a9a22f803e5",
   "metadata": {},
   "outputs": [],
   "source": []
  },
  {
   "cell_type": "code",
   "execution_count": null,
   "id": "6a4b417b-9965-4f8f-b00b-c315c746b606",
   "metadata": {},
   "outputs": [],
   "source": [
    "# 16. Calculate GCD Using Euclidean Algorithm\n",
    "# •\tWrite a function to find the Greatest Common Divisor (GCD) of two numbers using recursion.\n",
    "# •\tExample\n",
    "# Input: a = 48, b = 18\n",
    "# Expected Output: 6 (the GCD of 48 and 18 is 6)\n",
    "# •\tExample\n",
    "# Input: a = 56, b = 98\n",
    "# Expected Output: 14 (the GCD of 56 and 98 is 14)\n"
   ]
  },
  {
   "cell_type": "code",
   "execution_count": null,
   "id": "d66d39f7-57f8-41ca-a181-9b94410a55aa",
   "metadata": {},
   "outputs": [],
   "source": [
    "#using normal logic"
   ]
  },
  {
   "cell_type": "code",
   "execution_count": null,
   "id": "4dc02ffb-b192-4d26-bad4-235118e1b5f9",
   "metadata": {},
   "outputs": [],
   "source": [
    "#using function "
   ]
  },
  {
   "cell_type": "code",
   "execution_count": null,
   "id": "a40d1320-9d24-47ad-862c-d3b20da296e3",
   "metadata": {},
   "outputs": [],
   "source": [
    "#using oops"
   ]
  },
  {
   "cell_type": "code",
   "execution_count": null,
   "id": "62382397-621c-480d-86e8-6ae93f9def8a",
   "metadata": {},
   "outputs": [],
   "source": []
  },
  {
   "cell_type": "code",
   "execution_count": null,
   "id": "6bcad604-328f-4df7-852e-85f2454d4d9f",
   "metadata": {},
   "outputs": [],
   "source": [
    "# 17. Convert Decimal to Binary\n",
    "# •\tWrite a function to convert a given decimal number to its binary representation.\n",
    "# •\tExample\n",
    "# Input: decimal = 10\n",
    "# Expected Output: 1010 (the binary representation of 10 is 1010)\n",
    "# •\tExample\n",
    "# Input: decimal = 5\n",
    "# Expected Output: 101 (the binary representation of 5 is 101)\n"
   ]
  },
  {
   "cell_type": "code",
   "execution_count": 2,
   "id": "126a3d65-77cb-47cd-882c-c23376910f04",
   "metadata": {},
   "outputs": [
    {
     "name": "stdout",
     "output_type": "stream",
     "text": [
      "1010\n"
     ]
    }
   ],
   "source": [
    "#using normal logic\n",
    "decimal = 10\n",
    "binary = bin(decimal)[2:]\n",
    "print(binary)"
   ]
  },
  {
   "cell_type": "code",
   "execution_count": null,
   "id": "e3d3f011-7a4b-482b-9eb8-9ffd4bddc21a",
   "metadata": {},
   "outputs": [],
   "source": [
    "#using function \n"
   ]
  },
  {
   "cell_type": "code",
   "execution_count": null,
   "id": "ecae4a99-d0c0-4e7c-a74a-0a7a7a9d2484",
   "metadata": {},
   "outputs": [],
   "source": [
    "#using oops"
   ]
  },
  {
   "cell_type": "code",
   "execution_count": null,
   "id": "d9e41c87-9280-4946-a06b-cfe49cb64955",
   "metadata": {},
   "outputs": [],
   "source": []
  },
  {
   "cell_type": "code",
   "execution_count": null,
   "id": "f5480780-9d77-4c29-be84-1318650316e1",
   "metadata": {},
   "outputs": [],
   "source": [
    "# 18. Factorial Using Recursion\n",
    "# •\tWrite a recursive function to calculate the factorial of a given number.\n",
    "# •\tExample\n",
    "# Input: n = 5\n",
    "# Expected Output: 120 (since 5×4×3×2×1=120)\n",
    "# •\tExample\n",
    "# Input: n = 0\n",
    "# Expected Output: 1 \n"
   ]
  },
  {
   "cell_type": "code",
   "execution_count": 8,
   "id": "418c0b84-6bdb-4c7d-a0bb-26af976b945b",
   "metadata": {},
   "outputs": [
    {
     "name": "stdout",
     "output_type": "stream",
     "text": [
      "120\n"
     ]
    }
   ],
   "source": [
    "#using normal logic\n",
    "n = 5\n",
    "factorial = 1\n",
    "\n",
    "if n == 0:\n",
    "    factorial = 1\n",
    "else:\n",
    "    for i in range(1, n + 1):\n",
    "        factorial *= i\n",
    "\n",
    "print(factorial) "
   ]
  },
  {
   "cell_type": "code",
   "execution_count": 9,
   "id": "fda82aa3-91b5-4d41-8939-6bef92e79ed4",
   "metadata": {},
   "outputs": [
    {
     "name": "stdout",
     "output_type": "stream",
     "text": [
      "120\n"
     ]
    }
   ],
   "source": [
    "#using function \n",
    "def factorial(n):\n",
    "    result = 1\n",
    "    for i in range(1, n + 1):\n",
    "        result *= i\n",
    "    return result\n",
    "\n",
    "n = 5\n",
    "print(factorial(n)) "
   ]
  },
  {
   "cell_type": "code",
   "execution_count": 10,
   "id": "ce703fd4-3dc1-4d97-9f18-64fc38157607",
   "metadata": {},
   "outputs": [
    {
     "name": "stdout",
     "output_type": "stream",
     "text": [
      "120\n"
     ]
    }
   ],
   "source": [
    "#using oops\n",
    "class FactorialCalculator:\n",
    "    def compute(self, n):\n",
    "        if n < 0:\n",
    "            return \"Factorial is not defined for negative numbers.\"\n",
    "        elif n == 0:\n",
    "            return 1\n",
    "        else:\n",
    "            factorial = 1\n",
    "            for i in range(1, n + 1):\n",
    "                factorial *= i\n",
    "            return factorial\n",
    "\n",
    "\n",
    "n = 5\n",
    "calculator = FactorialCalculator() \n",
    "result = calculator.compute(n)     \n",
    "print(result) "
   ]
  },
  {
   "cell_type": "code",
   "execution_count": null,
   "id": "fa3115d2-a398-4acd-b56b-5b66c3314716",
   "metadata": {},
   "outputs": [],
   "source": []
  },
  {
   "cell_type": "code",
   "execution_count": null,
   "id": "d72dab1d-0269-4b88-8f2e-677d7e8eb7cd",
   "metadata": {},
   "outputs": [],
   "source": [
    "# 19. Find Largest Element in a List Using for Loop\n",
    "# •\tWrite a function to find the largest element in a list without using built-in max functions.\n",
    "# •\tExample\n",
    "# Input: [3, 5, 7, 2, 8, 1]\n",
    "# Expected Output: 8 (the largest element in the list is 8)\n",
    "# •\tExample\n",
    "# Input: [-1, -5, -3, -4]\n",
    "# Expected Output: -1 (the largest element in the list is -1)"
   ]
  },
  {
   "cell_type": "code",
   "execution_count": 11,
   "id": "322b6291-5e1e-4ff6-b3a1-bb1fda3b49f1",
   "metadata": {},
   "outputs": [
    {
     "name": "stdout",
     "output_type": "stream",
     "text": [
      "8\n"
     ]
    }
   ],
   "source": [
    "#using normal logic\n",
    "numbers = [3, 5, 7, 2, 8, 1] \n",
    "max_num = numbers[0]  # Assume first element is the largest\n",
    "\n",
    "for num in numbers:\n",
    "    if num > max_num:\n",
    "        max_num = num\n",
    "\n",
    "print(max_num) "
   ]
  },
  {
   "cell_type": "code",
   "execution_count": 12,
   "id": "a827bb00-1635-45ec-b000-e83496dce019",
   "metadata": {},
   "outputs": [
    {
     "name": "stdout",
     "output_type": "stream",
     "text": [
      "8\n",
      "-1\n"
     ]
    }
   ],
   "source": [
    "#using function \n",
    "def find_largest(numbers):\n",
    "    max_num = numbers[0]\n",
    "    for num in numbers:\n",
    "        if num > max_num:\n",
    "            max_num = num\n",
    "    return max_num\n",
    "\n",
    "numbers = [3, 5, 7, 2, 8, 1]\n",
    "result = find_largest(numbers)\n",
    "print(result) \n",
    "\n",
    "\n",
    "negative_numbers = [-1, -5, -3, -4]\n",
    "print(find_largest(negative_numbers)) "
   ]
  },
  {
   "cell_type": "code",
   "execution_count": 13,
   "id": "ae39bc8f-d48a-41ce-851a-8896494478cf",
   "metadata": {},
   "outputs": [
    {
     "name": "stdout",
     "output_type": "stream",
     "text": [
      "8\n"
     ]
    }
   ],
   "source": [
    "#using oops\n",
    "class MaxFinder:\n",
    "    def find_max(self, numbers):\n",
    "        if not numbers:\n",
    "            return None\n",
    "        \n",
    "        max_num = numbers[0] \n",
    "        for num in numbers:\n",
    "            if num > max_num:\n",
    "                max_num = num\n",
    "        return max_num\n",
    "\n",
    "\n",
    "numbers = [3, 5, 7, 2, 8, 1]\n",
    "finder = MaxFinder()  \n",
    "result = finder.find_max(numbers)\n",
    "print(result)"
   ]
  },
  {
   "cell_type": "code",
   "execution_count": null,
   "id": "4def71ac-c66e-4a7c-9862-516d1a509868",
   "metadata": {},
   "outputs": [],
   "source": []
  },
  {
   "cell_type": "code",
   "execution_count": null,
   "id": "b199e45d-9dcc-4b40-b70a-6988e590499e",
   "metadata": {},
   "outputs": [],
   "source": [
    "# 20. Count Occurrences of Each Character in a String\n",
    "# •\tTake a string as input and count the occurrences of each character.\n",
    "# •\tExample:\n",
    "# Input: \"hello\"\n",
    "# Expected Output: { 'h': 1, 'e': 1, 'l': 2, 'o': 1 }\n",
    "# •\tExample:\n",
    "# Input: \"apple\"\n",
    "# Expected Output: { 'a': 1, 'p': 2, 'l': 1, 'e': 1 }"
   ]
  },
  {
   "cell_type": "code",
   "execution_count": 15,
   "id": "2a608256-c154-4258-ab9a-97edda3cea21",
   "metadata": {},
   "outputs": [
    {
     "name": "stdout",
     "output_type": "stream",
     "text": [
      "{'h': 1, 'e': 1, 'l': 2, 'o': 1}\n"
     ]
    }
   ],
   "source": [
    "#using normal logic\n",
    "string = \"hello\"\n",
    "char_count = {}\n",
    "\n",
    "for char in string:\n",
    "    if char in char_count:\n",
    "        char_count[char] += 1\n",
    "    else:\n",
    "        char_count[char] = 1\n",
    "\n",
    "print(char_count)\n"
   ]
  },
  {
   "cell_type": "code",
   "execution_count": 16,
   "id": "b37cbe51-c489-4f71-ba3e-76022526a11a",
   "metadata": {},
   "outputs": [
    {
     "name": "stdout",
     "output_type": "stream",
     "text": [
      "{'h': 1, 'e': 1, 'l': 2, 'o': 1}\n"
     ]
    }
   ],
   "source": [
    "#using function\n",
    "def count_chars(string):\n",
    "    char_count = {}\n",
    "    for char in string:\n",
    "        if char in char_count:\n",
    "            char_count[char] += 1\n",
    "        else:\n",
    "            char_count[char] = 1\n",
    "    return char_count\n",
    "\n",
    "string = \"hello\"\n",
    "result = count_chars(string)\n",
    "print(result)  "
   ]
  },
  {
   "cell_type": "code",
   "execution_count": 17,
   "id": "ad3d7a48-c7c8-41d5-b080-6edc337c99db",
   "metadata": {},
   "outputs": [
    {
     "name": "stdout",
     "output_type": "stream",
     "text": [
      "{'h': 1, 'e': 1, 'l': 2, 'o': 1}\n"
     ]
    }
   ],
   "source": [
    "#using oops\n",
    "class CharacterCounter:\n",
    "    def __init__(self, input_string):\n",
    "        self.input_string = input_string\n",
    "        self.char_count = {}\n",
    "    \n",
    "    def count_characters(self):\n",
    "        for char in self.input_string:\n",
    "            if char in self.char_count:\n",
    "                self.char_count[char] += 1\n",
    "            else:\n",
    "                self.char_count[char] = 1\n",
    "        return self.char_count\n",
    "\n",
    "\n",
    "string = \"hello\"\n",
    "counter = CharacterCounter(string) \n",
    "result = counter.count_characters() \n",
    "print(result)"
   ]
  },
  {
   "cell_type": "code",
   "execution_count": null,
   "id": "8057107e-e737-4775-b7a7-fc8840381315",
   "metadata": {},
   "outputs": [],
   "source": []
  },
  {
   "cell_type": "code",
   "execution_count": null,
   "id": "9a518a73-06e2-4b08-a5b3-203b744b743e",
   "metadata": {},
   "outputs": [],
   "source": [
    "# 21. Find Intersection of Two Lists\n",
    "# •\tWrite a function that returns the intersection of two lists without using set operations.\n",
    "# •\tExample:\n",
    "# Input: list1 = [1, 2, 3, 4, 5], list2 = [4, 5, 6, 7, 8]\n",
    "# Expected Output: [4, 5]\n",
    "# •\tExample:\n",
    "# Input: list1 = ['apple', 'banana', 'cherry'], list2 = ['cherry', 'date', 'apple']\n",
    "# Expected Output: ['apple', 'cherry']"
   ]
  },
  {
   "cell_type": "code",
   "execution_count": null,
   "id": "f133d8bc-0f0e-40c5-87a9-4538ac975fc8",
   "metadata": {},
   "outputs": [],
   "source": [
    "#using normal logic"
   ]
  },
  {
   "cell_type": "code",
   "execution_count": null,
   "id": "b1c780bc-e833-4b7c-8c08-469667a488b8",
   "metadata": {},
   "outputs": [],
   "source": [
    "#using function"
   ]
  },
  {
   "cell_type": "code",
   "execution_count": null,
   "id": "92587737-cc5b-4146-abd6-a1bdb379cdfa",
   "metadata": {},
   "outputs": [],
   "source": [
    "#using oops"
   ]
  },
  {
   "cell_type": "code",
   "execution_count": null,
   "id": "56fcd673-aea0-41e9-b1b1-8f963fbbb306",
   "metadata": {},
   "outputs": [],
   "source": []
  },
  {
   "cell_type": "code",
   "execution_count": null,
   "id": "8e4846f9-93f0-4e6b-9a7a-e914bef0a98d",
   "metadata": {},
   "outputs": [],
   "source": []
  },
  {
   "cell_type": "code",
   "execution_count": null,
   "id": "20ad578c-53d2-4128-b8e7-6e422e67c93a",
   "metadata": {},
   "outputs": [],
   "source": []
  },
  {
   "cell_type": "code",
   "execution_count": null,
   "id": "746d69dd-b070-4e53-a4e6-86110747fe4c",
   "metadata": {},
   "outputs": [],
   "source": []
  },
  {
   "cell_type": "code",
   "execution_count": null,
   "id": "22c15943-221d-446c-a9df-87cbcf45fcb5",
   "metadata": {},
   "outputs": [],
   "source": []
  },
  {
   "cell_type": "code",
   "execution_count": null,
   "id": "5c0fc144-4447-4e3e-8a7e-afe47fcc38ca",
   "metadata": {},
   "outputs": [],
   "source": []
  },
  {
   "cell_type": "code",
   "execution_count": null,
   "id": "bc423688-885b-4ef1-9ab9-9bd1ee03b0ae",
   "metadata": {},
   "outputs": [],
   "source": []
  },
  {
   "cell_type": "code",
   "execution_count": null,
   "id": "e51fdba5-9da2-4773-9466-c2cd0849db40",
   "metadata": {},
   "outputs": [],
   "source": []
  },
  {
   "cell_type": "code",
   "execution_count": null,
   "id": "38672ba5-c289-444a-9314-da0c7b787ba7",
   "metadata": {},
   "outputs": [],
   "source": []
  }
 ],
 "metadata": {
  "kernelspec": {
   "display_name": "Python 3 (ipykernel)",
   "language": "python",
   "name": "python3"
  },
  "language_info": {
   "codemirror_mode": {
    "name": "ipython",
    "version": 3
   },
   "file_extension": ".py",
   "mimetype": "text/x-python",
   "name": "python",
   "nbconvert_exporter": "python",
   "pygments_lexer": "ipython3",
   "version": "3.12.0"
  }
 },
 "nbformat": 4,
 "nbformat_minor": 5
}
